{
 "cells": [
  {
   "cell_type": "code",
   "execution_count": null,
   "id": "ad70e8ef-0ced-4e06-a1cd-1fcdf047acdf",
   "metadata": {},
   "outputs": [],
   "source": [
    "from msconverter import convert\n",
    "\n",
    "from google.cloud import storage\n",
    "from casacore import tables\n",
    "import numpy as np\n",
    "import xarray as xr\n",
    "import time"
   ]
  },
  {
   "cell_type": "markdown",
   "id": "725a5330-1fdb-459f-9d50-279aa9948299",
   "metadata": {},
   "source": [
    "# Conversion\n",
    "\n",
    "Convert a small MeasurementSet to a zarr store\n",
    "\n",
    "Zarr allows distributed memory access (very scalable!)"
   ]
  },
  {
   "cell_type": "code",
   "execution_count": null,
   "id": "81fc8b3d-87ab-49a1-bb54-e999f01828c0",
   "metadata": {},
   "outputs": [],
   "source": [
    "# Data used in the demo on Google Cloud\n",
    "# gsutil -m cp -r \"gs://ska1-simulation-data/simulations/AA2-Mid-sim-HIP-568/MS_AA2-Mid_rev4_uncorrupted_62_stations_1.0h_0016ch/AA2-Mid-sim_00000.ms\" .\n",
    "\n",
    "# Add local path to data\n",
    "base_dir = \"/path/to/data/\"\n",
    "\n",
    "infile = base_dir + \"measurement_set.ms\"\n",
    "outfile = base_dir + \"store.zarr\""
   ]
  },
  {
   "cell_type": "code",
   "execution_count": null,
   "id": "9a80d577-392e-4c43-9412-829b179dae56",
   "metadata": {},
   "outputs": [],
   "source": [
    "MS_size_bytes = convert.get_dir_size(infile)\n",
    "\n",
    "print(f\"MS size: {(MS_size_bytes/1024.**3):.2f} GiB\")"
   ]
  },
  {
   "cell_type": "code",
   "execution_count": null,
   "id": "b8694de6-2429-45fd-9e90-233d3b3b8e25",
   "metadata": {},
   "outputs": [],
   "source": [
    "start = time.time()\n",
    "\n",
    "convert.convert(infile, outfile, fits_in_memory=True)\n",
    "\n",
    "end = time.time()"
   ]
  },
  {
   "cell_type": "code",
   "execution_count": null,
   "id": "7823dc78-78cf-4257-a25d-387e080f98d4",
   "metadata": {},
   "outputs": [],
   "source": [
    "print(f\"Conversion time: {(end-start):.2f}s\")"
   ]
  },
  {
   "cell_type": "markdown",
   "id": "6e5c6136-d9f9-400b-94e3-578dab0da925",
   "metadata": {},
   "source": [
    "# Throughput test\n",
    "\n",
    "Simple test of throughput: Sum the visibility data"
   ]
  },
  {
   "cell_type": "code",
   "execution_count": null,
   "id": "01c00324-b3d0-4998-92ab-d043c814b66c",
   "metadata": {},
   "outputs": [],
   "source": [
    "# Load data\n",
    "\n",
    "MeasurementSet = tables.table(infile)\n",
    "ZarrStore = xr.open_zarr(outfile)\n",
    "\n",
    "#########################################\n",
    "# Time MeasurementSet\n",
    "\n",
    "start_MS = time.time()\n",
    "\n",
    "visibilities = MeasurementSet.getcol('DATA')\n",
    "MS_total = np.sum(visibilities)\n",
    "\n",
    "end_MS = time.time()\n",
    "\n",
    "#########################################\n",
    "# Time ZarrStore\n",
    "\n",
    "start_zarr = time.time()\n",
    "\n",
    "xda = ZarrStore['VISIBILITY']\n",
    "delayed_sum = xda.sum()\n",
    "zarr_total = delayed_sum.compute()\n",
    "\n",
    "end_zarr = time.time()\n"
   ]
  },
  {
   "cell_type": "code",
   "execution_count": null,
   "id": "d060e6cb-ed74-4507-a3ca-2b12654bdb95",
   "metadata": {},
   "outputs": [],
   "source": [
    "print(MS_total)\n",
    "print(np.array(zarr_total))"
   ]
  },
  {
   "cell_type": "code",
   "execution_count": null,
   "id": "45dcc842-a462-43f1-83d7-d6b0c22b20c4",
   "metadata": {},
   "outputs": [],
   "source": [
    "diff = 100 * np.linalg.norm(MS_total-zarr_total) / np.linalg.norm(zarr_total)\n",
    "\n",
    "print(f\"Floating point difference: {diff:.5f}%\")"
   ]
  },
  {
   "cell_type": "code",
   "execution_count": null,
   "id": "c47ee012-7b81-4427-a623-d2303a7b42fe",
   "metadata": {},
   "outputs": [],
   "source": [
    "print(f'MeasurementSet time: {(end_MS-start_MS):.2f}s')\n",
    "print(f'ZarrStore time: {(end_zarr-start_zarr):.2f}s')"
   ]
  },
  {
   "cell_type": "code",
   "execution_count": null,
   "id": "bd302e63-4aba-47d7-96ff-4b04fb43edd8",
   "metadata": {},
   "outputs": [],
   "source": [
    "MS_size_bytes = convert.get_dir_size(infile)\n",
    "zarr_size_bytes = convert.get_dir_size(outfile)\n",
    "\n",
    "print(f\"MS size: {(MS_size_bytes/1024.**3):.2f} GiB\")\n",
    "print(f\"Zarr size: {(zarr_size_bytes/1024.**3):.2f} GiB\")"
   ]
  },
  {
   "cell_type": "code",
   "execution_count": null,
   "id": "784c540a-3af3-499a-9454-3e246a231f6d",
   "metadata": {},
   "outputs": [],
   "source": [
    "print(f\"{(ZarrStore.nbytes/(1024**3)):.2f}\")"
   ]
  },
  {
   "cell_type": "code",
   "execution_count": null,
   "id": "fcb7a2e6-2204-4627-983e-21503b3ce4de",
   "metadata": {},
   "outputs": [],
   "source": []
  }
 ],
 "metadata": {
  "kernelspec": {
   "display_name": "Python 3 (ipykernel)",
   "language": "python",
   "name": "python3"
  },
  "language_info": {
   "codemirror_mode": {
    "name": "ipython",
    "version": 3
   },
   "file_extension": ".py",
   "mimetype": "text/x-python",
   "name": "python",
   "nbconvert_exporter": "python",
   "pygments_lexer": "ipython3",
   "version": "3.10.13"
  }
 },
 "nbformat": 4,
 "nbformat_minor": 5
}
